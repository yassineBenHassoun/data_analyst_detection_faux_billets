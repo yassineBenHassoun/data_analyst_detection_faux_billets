{
 "cells": [
  {
   "cell_type": "code",
   "execution_count": 1,
   "id": "f69f6a7d",
   "metadata": {},
   "outputs": [],
   "source": [
    "import pandas as pd\n",
    "from sklearn import preprocessing\n",
    "import pickle"
   ]
  },
  {
   "cell_type": "markdown",
   "id": "73644ff7",
   "metadata": {},
   "source": [
    "Nous allons mettre en place une fonction permettant de detecter un vrai/faux billet de banque \n",
    "pour que cela soit possible il faux que le dataset contienne les colonnes suivantes : diagonal height_left\n",
    "height_right margin_low margin_up et length"
   ]
  },
  {
   "cell_type": "code",
   "execution_count": 2,
   "id": "14c54fc8",
   "metadata": {},
   "outputs": [],
   "source": [
    "def detectBankNote(banknoteDataframe):\n",
    "    dataForPredict = pd.read_csv(banknoteDataframe, parse_dates=True) \n",
    "    print(banknoteDataframe)\n",
    "    "
   ]
  },
  {
   "cell_type": "code",
   "execution_count": null,
   "id": "9f057b97",
   "metadata": {},
   "outputs": [],
   "source": [
    "data = pd.read_csv(banknoteDataframe, parse_dates=True) \n",
    "\n",
    "detectBankNote()"
   ]
  }
 ],
 "metadata": {
  "kernelspec": {
   "display_name": "Python 3 (ipykernel)",
   "language": "python",
   "name": "python3"
  },
  "language_info": {
   "codemirror_mode": {
    "name": "ipython",
    "version": 3
   },
   "file_extension": ".py",
   "mimetype": "text/x-python",
   "name": "python",
   "nbconvert_exporter": "python",
   "pygments_lexer": "ipython3",
   "version": "3.8.16"
  }
 },
 "nbformat": 4,
 "nbformat_minor": 5
}
