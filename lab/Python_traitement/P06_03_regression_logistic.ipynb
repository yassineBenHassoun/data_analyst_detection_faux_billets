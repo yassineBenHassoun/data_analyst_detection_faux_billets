{
 "cells": [
  {
   "cell_type": "code",
   "execution_count": 19,
   "metadata": {},
   "outputs": [],
   "source": [
    "from scipy.stats import kstest\n",
    "from scipy import stats\n",
    "import pandas as pd\n",
    "import numpy as np\n",
    "import seaborn as sns\n",
    "sns.set_theme(style=\"whitegrid\")\n",
    "from Class import taux_remplissage\n",
    "from sklearn import decomposition\n",
    "from functions_pca import *\n",
    "from sklearn import preprocessing\n",
    "from sklearn import *\n",
    "from sklearn.model_selection import train_test_split\n",
    "from sklearn.linear_model import LogisticRegression\n",
    "import pickle\n",
    "from sklearn.metrics import confusion_matrix, ConfusionMatrixDisplay\n",
    "\n"
   ]
  },
  {
   "cell_type": "code",
   "execution_count": 20,
   "metadata": {},
   "outputs": [
    {
     "data": {
      "text/html": [
       "<div>\n",
       "<style scoped>\n",
       "    .dataframe tbody tr th:only-of-type {\n",
       "        vertical-align: middle;\n",
       "    }\n",
       "\n",
       "    .dataframe tbody tr th {\n",
       "        vertical-align: top;\n",
       "    }\n",
       "\n",
       "    .dataframe thead th {\n",
       "        text-align: right;\n",
       "    }\n",
       "</style>\n",
       "<table border=\"1\" class=\"dataframe\">\n",
       "  <thead>\n",
       "    <tr style=\"text-align: right;\">\n",
       "      <th></th>\n",
       "      <th>diagonal</th>\n",
       "      <th>height_left</th>\n",
       "      <th>height_right</th>\n",
       "      <th>margin_low</th>\n",
       "      <th>margin_up</th>\n",
       "      <th>length</th>\n",
       "    </tr>\n",
       "  </thead>\n",
       "  <tbody>\n",
       "    <tr>\n",
       "      <th>count</th>\n",
       "      <td>170.000000</td>\n",
       "      <td>170.000000</td>\n",
       "      <td>170.000000</td>\n",
       "      <td>170.000000</td>\n",
       "      <td>170.000000</td>\n",
       "      <td>170.000000</td>\n",
       "    </tr>\n",
       "    <tr>\n",
       "      <th>mean</th>\n",
       "      <td>171.940588</td>\n",
       "      <td>104.066353</td>\n",
       "      <td>103.928118</td>\n",
       "      <td>4.612118</td>\n",
       "      <td>3.170412</td>\n",
       "      <td>112.570412</td>\n",
       "    </tr>\n",
       "    <tr>\n",
       "      <th>std</th>\n",
       "      <td>0.305768</td>\n",
       "      <td>0.298185</td>\n",
       "      <td>0.330980</td>\n",
       "      <td>0.702103</td>\n",
       "      <td>0.236361</td>\n",
       "      <td>0.924448</td>\n",
       "    </tr>\n",
       "    <tr>\n",
       "      <th>min</th>\n",
       "      <td>171.040000</td>\n",
       "      <td>103.230000</td>\n",
       "      <td>103.140000</td>\n",
       "      <td>3.540000</td>\n",
       "      <td>2.270000</td>\n",
       "      <td>109.970000</td>\n",
       "    </tr>\n",
       "    <tr>\n",
       "      <th>25%</th>\n",
       "      <td>171.730000</td>\n",
       "      <td>103.842500</td>\n",
       "      <td>103.690000</td>\n",
       "      <td>4.050000</td>\n",
       "      <td>3.012500</td>\n",
       "      <td>111.855000</td>\n",
       "    </tr>\n",
       "    <tr>\n",
       "      <th>50%</th>\n",
       "      <td>171.945000</td>\n",
       "      <td>104.055000</td>\n",
       "      <td>103.950000</td>\n",
       "      <td>4.450000</td>\n",
       "      <td>3.170000</td>\n",
       "      <td>112.845000</td>\n",
       "    </tr>\n",
       "    <tr>\n",
       "      <th>75%</th>\n",
       "      <td>172.137500</td>\n",
       "      <td>104.287500</td>\n",
       "      <td>104.170000</td>\n",
       "      <td>5.127500</td>\n",
       "      <td>3.330000</td>\n",
       "      <td>113.287500</td>\n",
       "    </tr>\n",
       "    <tr>\n",
       "      <th>max</th>\n",
       "      <td>173.010000</td>\n",
       "      <td>104.860000</td>\n",
       "      <td>104.950000</td>\n",
       "      <td>6.280000</td>\n",
       "      <td>3.680000</td>\n",
       "      <td>113.980000</td>\n",
       "    </tr>\n",
       "  </tbody>\n",
       "</table>\n",
       "</div>"
      ],
      "text/plain": [
       "         diagonal  height_left  height_right  margin_low   margin_up  \\\n",
       "count  170.000000   170.000000    170.000000  170.000000  170.000000   \n",
       "mean   171.940588   104.066353    103.928118    4.612118    3.170412   \n",
       "std      0.305768     0.298185      0.330980    0.702103    0.236361   \n",
       "min    171.040000   103.230000    103.140000    3.540000    2.270000   \n",
       "25%    171.730000   103.842500    103.690000    4.050000    3.012500   \n",
       "50%    171.945000   104.055000    103.950000    4.450000    3.170000   \n",
       "75%    172.137500   104.287500    104.170000    5.127500    3.330000   \n",
       "max    173.010000   104.860000    104.950000    6.280000    3.680000   \n",
       "\n",
       "           length  \n",
       "count  170.000000  \n",
       "mean   112.570412  \n",
       "std      0.924448  \n",
       "min    109.970000  \n",
       "25%    111.855000  \n",
       "50%    112.845000  \n",
       "75%    113.287500  \n",
       "max    113.980000  "
      ]
     },
     "execution_count": 20,
     "metadata": {},
     "output_type": "execute_result"
    }
   ],
   "source": [
    "tickets = pd.read_csv(\"../../lab/origin_values/faux_billets.csv\", parse_dates=True) \n",
    "tickets.describe()"
   ]
  },
  {
   "cell_type": "code",
   "execution_count": 35,
   "metadata": {},
   "outputs": [
    {
     "data": {
      "text/html": [
       "<div>\n",
       "<style scoped>\n",
       "    .dataframe tbody tr th:only-of-type {\n",
       "        vertical-align: middle;\n",
       "    }\n",
       "\n",
       "    .dataframe tbody tr th {\n",
       "        vertical-align: top;\n",
       "    }\n",
       "\n",
       "    .dataframe thead th {\n",
       "        text-align: right;\n",
       "    }\n",
       "</style>\n",
       "<table border=\"1\" class=\"dataframe\">\n",
       "  <thead>\n",
       "    <tr style=\"text-align: right;\">\n",
       "      <th></th>\n",
       "      <th>is_genuine</th>\n",
       "      <th>diagonal</th>\n",
       "      <th>height_left</th>\n",
       "      <th>height_right</th>\n",
       "      <th>margin_low</th>\n",
       "      <th>margin_up</th>\n",
       "      <th>length</th>\n",
       "      <th>genuine</th>\n",
       "    </tr>\n",
       "  </thead>\n",
       "  <tbody>\n",
       "    <tr>\n",
       "      <th>46</th>\n",
       "      <td>True</td>\n",
       "      <td>171.85</td>\n",
       "      <td>103.90</td>\n",
       "      <td>103.74</td>\n",
       "      <td>4.13</td>\n",
       "      <td>3.07</td>\n",
       "      <td>113.15</td>\n",
       "      <td>1</td>\n",
       "    </tr>\n",
       "    <tr>\n",
       "      <th>71</th>\n",
       "      <td>True</td>\n",
       "      <td>172.17</td>\n",
       "      <td>103.93</td>\n",
       "      <td>103.62</td>\n",
       "      <td>4.06</td>\n",
       "      <td>3.08</td>\n",
       "      <td>113.10</td>\n",
       "      <td>1</td>\n",
       "    </tr>\n",
       "  </tbody>\n",
       "</table>\n",
       "</div>"
      ],
      "text/plain": [
       "    is_genuine  diagonal  height_left  height_right  margin_low  margin_up  \\\n",
       "46        True    171.85       103.90        103.74        4.13       3.07   \n",
       "71        True    172.17       103.93        103.62        4.06       3.08   \n",
       "\n",
       "    length  genuine  \n",
       "46  113.15        1  \n",
       "71  113.10        1  "
      ]
     },
     "execution_count": 35,
     "metadata": {},
     "output_type": "execute_result"
    }
   ],
   "source": []
  },
  {
   "cell_type": "markdown",
   "metadata": {},
   "source": [
    "Pour effectuer l'apprentissage nous devons transfomer les valeurs bouléennes en numéro "
   ]
  },
  {
   "cell_type": "code",
   "execution_count": 21,
   "metadata": {},
   "outputs": [
    {
     "data": {
      "text/html": [
       "<div>\n",
       "<style scoped>\n",
       "    .dataframe tbody tr th:only-of-type {\n",
       "        vertical-align: middle;\n",
       "    }\n",
       "\n",
       "    .dataframe tbody tr th {\n",
       "        vertical-align: top;\n",
       "    }\n",
       "\n",
       "    .dataframe thead th {\n",
       "        text-align: right;\n",
       "    }\n",
       "</style>\n",
       "<table border=\"1\" class=\"dataframe\">\n",
       "  <thead>\n",
       "    <tr style=\"text-align: right;\">\n",
       "      <th></th>\n",
       "      <th>is_genuine</th>\n",
       "      <th>diagonal</th>\n",
       "      <th>height_left</th>\n",
       "      <th>height_right</th>\n",
       "      <th>margin_low</th>\n",
       "      <th>margin_up</th>\n",
       "      <th>length</th>\n",
       "      <th>genuine</th>\n",
       "    </tr>\n",
       "  </thead>\n",
       "  <tbody>\n",
       "    <tr>\n",
       "      <th>0</th>\n",
       "      <td>True</td>\n",
       "      <td>171.81</td>\n",
       "      <td>104.86</td>\n",
       "      <td>104.95</td>\n",
       "      <td>4.52</td>\n",
       "      <td>2.89</td>\n",
       "      <td>112.83</td>\n",
       "      <td>1</td>\n",
       "    </tr>\n",
       "    <tr>\n",
       "      <th>1</th>\n",
       "      <td>True</td>\n",
       "      <td>171.67</td>\n",
       "      <td>103.74</td>\n",
       "      <td>103.70</td>\n",
       "      <td>4.01</td>\n",
       "      <td>2.87</td>\n",
       "      <td>113.29</td>\n",
       "      <td>1</td>\n",
       "    </tr>\n",
       "    <tr>\n",
       "      <th>2</th>\n",
       "      <td>True</td>\n",
       "      <td>171.83</td>\n",
       "      <td>103.76</td>\n",
       "      <td>103.76</td>\n",
       "      <td>4.40</td>\n",
       "      <td>2.88</td>\n",
       "      <td>113.84</td>\n",
       "      <td>1</td>\n",
       "    </tr>\n",
       "    <tr>\n",
       "      <th>3</th>\n",
       "      <td>True</td>\n",
       "      <td>171.80</td>\n",
       "      <td>103.78</td>\n",
       "      <td>103.65</td>\n",
       "      <td>3.73</td>\n",
       "      <td>3.12</td>\n",
       "      <td>113.63</td>\n",
       "      <td>1</td>\n",
       "    </tr>\n",
       "    <tr>\n",
       "      <th>4</th>\n",
       "      <td>True</td>\n",
       "      <td>172.05</td>\n",
       "      <td>103.70</td>\n",
       "      <td>103.75</td>\n",
       "      <td>5.04</td>\n",
       "      <td>2.27</td>\n",
       "      <td>113.55</td>\n",
       "      <td>1</td>\n",
       "    </tr>\n",
       "  </tbody>\n",
       "</table>\n",
       "</div>"
      ],
      "text/plain": [
       "   is_genuine  diagonal  height_left  height_right  margin_low  margin_up  \\\n",
       "0        True    171.81       104.86        104.95        4.52       2.89   \n",
       "1        True    171.67       103.74        103.70        4.01       2.87   \n",
       "2        True    171.83       103.76        103.76        4.40       2.88   \n",
       "3        True    171.80       103.78        103.65        3.73       3.12   \n",
       "4        True    172.05       103.70        103.75        5.04       2.27   \n",
       "\n",
       "   length  genuine  \n",
       "0  112.83        1  \n",
       "1  113.29        1  \n",
       "2  113.84        1  \n",
       "3  113.63        1  \n",
       "4  113.55        1  "
      ]
     },
     "execution_count": 21,
     "metadata": {},
     "output_type": "execute_result"
    }
   ],
   "source": [
    "tickets['genuine'] = tickets['is_genuine'] * 1\n",
    "tickets['genuine'].astype(int)\n",
    "\n",
    "## 1 = vrais billet et  0 faux billet\n",
    "tickets.head()"
   ]
  },
  {
   "cell_type": "code",
   "execution_count": 22,
   "metadata": {},
   "outputs": [
    {
     "data": {
      "text/html": [
       "<div>\n",
       "<style scoped>\n",
       "    .dataframe tbody tr th:only-of-type {\n",
       "        vertical-align: middle;\n",
       "    }\n",
       "\n",
       "    .dataframe tbody tr th {\n",
       "        vertical-align: top;\n",
       "    }\n",
       "\n",
       "    .dataframe thead th {\n",
       "        text-align: right;\n",
       "    }\n",
       "</style>\n",
       "<table border=\"1\" class=\"dataframe\">\n",
       "  <thead>\n",
       "    <tr style=\"text-align: right;\">\n",
       "      <th></th>\n",
       "      <th>diagonal</th>\n",
       "      <th>height_left</th>\n",
       "      <th>height_right</th>\n",
       "      <th>margin_low</th>\n",
       "      <th>margin_up</th>\n",
       "      <th>length</th>\n",
       "      <th>genuine</th>\n",
       "    </tr>\n",
       "  </thead>\n",
       "  <tbody>\n",
       "    <tr>\n",
       "      <th>count</th>\n",
       "      <td>170.000000</td>\n",
       "      <td>170.000000</td>\n",
       "      <td>170.000000</td>\n",
       "      <td>170.000000</td>\n",
       "      <td>170.000000</td>\n",
       "      <td>170.000000</td>\n",
       "      <td>170.000000</td>\n",
       "    </tr>\n",
       "    <tr>\n",
       "      <th>mean</th>\n",
       "      <td>171.940588</td>\n",
       "      <td>104.066353</td>\n",
       "      <td>103.928118</td>\n",
       "      <td>4.612118</td>\n",
       "      <td>3.170412</td>\n",
       "      <td>112.570412</td>\n",
       "      <td>0.588235</td>\n",
       "    </tr>\n",
       "    <tr>\n",
       "      <th>std</th>\n",
       "      <td>0.305768</td>\n",
       "      <td>0.298185</td>\n",
       "      <td>0.330980</td>\n",
       "      <td>0.702103</td>\n",
       "      <td>0.236361</td>\n",
       "      <td>0.924448</td>\n",
       "      <td>0.493607</td>\n",
       "    </tr>\n",
       "    <tr>\n",
       "      <th>min</th>\n",
       "      <td>171.040000</td>\n",
       "      <td>103.230000</td>\n",
       "      <td>103.140000</td>\n",
       "      <td>3.540000</td>\n",
       "      <td>2.270000</td>\n",
       "      <td>109.970000</td>\n",
       "      <td>0.000000</td>\n",
       "    </tr>\n",
       "    <tr>\n",
       "      <th>25%</th>\n",
       "      <td>171.730000</td>\n",
       "      <td>103.842500</td>\n",
       "      <td>103.690000</td>\n",
       "      <td>4.050000</td>\n",
       "      <td>3.012500</td>\n",
       "      <td>111.855000</td>\n",
       "      <td>0.000000</td>\n",
       "    </tr>\n",
       "    <tr>\n",
       "      <th>50%</th>\n",
       "      <td>171.945000</td>\n",
       "      <td>104.055000</td>\n",
       "      <td>103.950000</td>\n",
       "      <td>4.450000</td>\n",
       "      <td>3.170000</td>\n",
       "      <td>112.845000</td>\n",
       "      <td>1.000000</td>\n",
       "    </tr>\n",
       "    <tr>\n",
       "      <th>75%</th>\n",
       "      <td>172.137500</td>\n",
       "      <td>104.287500</td>\n",
       "      <td>104.170000</td>\n",
       "      <td>5.127500</td>\n",
       "      <td>3.330000</td>\n",
       "      <td>113.287500</td>\n",
       "      <td>1.000000</td>\n",
       "    </tr>\n",
       "    <tr>\n",
       "      <th>max</th>\n",
       "      <td>173.010000</td>\n",
       "      <td>104.860000</td>\n",
       "      <td>104.950000</td>\n",
       "      <td>6.280000</td>\n",
       "      <td>3.680000</td>\n",
       "      <td>113.980000</td>\n",
       "      <td>1.000000</td>\n",
       "    </tr>\n",
       "  </tbody>\n",
       "</table>\n",
       "</div>"
      ],
      "text/plain": [
       "         diagonal  height_left  height_right  margin_low   margin_up  \\\n",
       "count  170.000000   170.000000    170.000000  170.000000  170.000000   \n",
       "mean   171.940588   104.066353    103.928118    4.612118    3.170412   \n",
       "std      0.305768     0.298185      0.330980    0.702103    0.236361   \n",
       "min    171.040000   103.230000    103.140000    3.540000    2.270000   \n",
       "25%    171.730000   103.842500    103.690000    4.050000    3.012500   \n",
       "50%    171.945000   104.055000    103.950000    4.450000    3.170000   \n",
       "75%    172.137500   104.287500    104.170000    5.127500    3.330000   \n",
       "max    173.010000   104.860000    104.950000    6.280000    3.680000   \n",
       "\n",
       "           length     genuine  \n",
       "count  170.000000  170.000000  \n",
       "mean   112.570412    0.588235  \n",
       "std      0.924448    0.493607  \n",
       "min    109.970000    0.000000  \n",
       "25%    111.855000    0.000000  \n",
       "50%    112.845000    1.000000  \n",
       "75%    113.287500    1.000000  \n",
       "max    113.980000    1.000000  "
      ]
     },
     "execution_count": 22,
     "metadata": {},
     "output_type": "execute_result"
    }
   ],
   "source": [
    "data = tickets.copy()\n",
    "data = data.drop('is_genuine', axis='columns')\n",
    "data.describe()"
   ]
  },
  {
   "cell_type": "markdown",
   "metadata": {},
   "source": [
    "La librairy de sckitlearn permet d'entrainer notre dataset à déterminer si un billet vrai/faux\n",
    "en prenants en compte tout les variables."
   ]
  },
  {
   "cell_type": "code",
   "execution_count": 23,
   "metadata": {},
   "outputs": [],
   "source": [
    "# séparation des donnée de test et des données d'entrainement\n",
    "\n",
    "xtrain, xtest, ytrain, ytest = train_test_split(data.drop(['genuine'], axis='columns'),\n",
    "                                                data['genuine'], train_size=0.20)"
   ]
  },
  {
   "cell_type": "markdown",
   "metadata": {},
   "source": [
    "Ci-dessus nous entrainons 80% du dataset pour la reconnaissance de billet et 20% qui seront les test "
   ]
  },
  {
   "cell_type": "code",
   "execution_count": 24,
   "metadata": {},
   "outputs": [
    {
     "data": {
      "text/html": [
       "<style>#sk-container-id-3 {color: black;background-color: white;}#sk-container-id-3 pre{padding: 0;}#sk-container-id-3 div.sk-toggleable {background-color: white;}#sk-container-id-3 label.sk-toggleable__label {cursor: pointer;display: block;width: 100%;margin-bottom: 0;padding: 0.3em;box-sizing: border-box;text-align: center;}#sk-container-id-3 label.sk-toggleable__label-arrow:before {content: \"▸\";float: left;margin-right: 0.25em;color: #696969;}#sk-container-id-3 label.sk-toggleable__label-arrow:hover:before {color: black;}#sk-container-id-3 div.sk-estimator:hover label.sk-toggleable__label-arrow:before {color: black;}#sk-container-id-3 div.sk-toggleable__content {max-height: 0;max-width: 0;overflow: hidden;text-align: left;background-color: #f0f8ff;}#sk-container-id-3 div.sk-toggleable__content pre {margin: 0.2em;color: black;border-radius: 0.25em;background-color: #f0f8ff;}#sk-container-id-3 input.sk-toggleable__control:checked~div.sk-toggleable__content {max-height: 200px;max-width: 100%;overflow: auto;}#sk-container-id-3 input.sk-toggleable__control:checked~label.sk-toggleable__label-arrow:before {content: \"▾\";}#sk-container-id-3 div.sk-estimator input.sk-toggleable__control:checked~label.sk-toggleable__label {background-color: #d4ebff;}#sk-container-id-3 div.sk-label input.sk-toggleable__control:checked~label.sk-toggleable__label {background-color: #d4ebff;}#sk-container-id-3 input.sk-hidden--visually {border: 0;clip: rect(1px 1px 1px 1px);clip: rect(1px, 1px, 1px, 1px);height: 1px;margin: -1px;overflow: hidden;padding: 0;position: absolute;width: 1px;}#sk-container-id-3 div.sk-estimator {font-family: monospace;background-color: #f0f8ff;border: 1px dotted black;border-radius: 0.25em;box-sizing: border-box;margin-bottom: 0.5em;}#sk-container-id-3 div.sk-estimator:hover {background-color: #d4ebff;}#sk-container-id-3 div.sk-parallel-item::after {content: \"\";width: 100%;border-bottom: 1px solid gray;flex-grow: 1;}#sk-container-id-3 div.sk-label:hover label.sk-toggleable__label {background-color: #d4ebff;}#sk-container-id-3 div.sk-serial::before {content: \"\";position: absolute;border-left: 1px solid gray;box-sizing: border-box;top: 0;bottom: 0;left: 50%;z-index: 0;}#sk-container-id-3 div.sk-serial {display: flex;flex-direction: column;align-items: center;background-color: white;padding-right: 0.2em;padding-left: 0.2em;position: relative;}#sk-container-id-3 div.sk-item {position: relative;z-index: 1;}#sk-container-id-3 div.sk-parallel {display: flex;align-items: stretch;justify-content: center;background-color: white;position: relative;}#sk-container-id-3 div.sk-item::before, #sk-container-id-3 div.sk-parallel-item::before {content: \"\";position: absolute;border-left: 1px solid gray;box-sizing: border-box;top: 0;bottom: 0;left: 50%;z-index: -1;}#sk-container-id-3 div.sk-parallel-item {display: flex;flex-direction: column;z-index: 1;position: relative;background-color: white;}#sk-container-id-3 div.sk-parallel-item:first-child::after {align-self: flex-end;width: 50%;}#sk-container-id-3 div.sk-parallel-item:last-child::after {align-self: flex-start;width: 50%;}#sk-container-id-3 div.sk-parallel-item:only-child::after {width: 0;}#sk-container-id-3 div.sk-dashed-wrapped {border: 1px dashed gray;margin: 0 0.4em 0.5em 0.4em;box-sizing: border-box;padding-bottom: 0.4em;background-color: white;}#sk-container-id-3 div.sk-label label {font-family: monospace;font-weight: bold;display: inline-block;line-height: 1.2em;}#sk-container-id-3 div.sk-label-container {text-align: center;}#sk-container-id-3 div.sk-container {/* jupyter's `normalize.less` sets `[hidden] { display: none; }` but bootstrap.min.css set `[hidden] { display: none !important; }` so we also need the `!important` here to be able to override the default hidden behavior on the sphinx rendered scikit-learn.org. See: https://github.com/scikit-learn/scikit-learn/issues/21755 */display: inline-block !important;position: relative;}#sk-container-id-3 div.sk-text-repr-fallback {display: none;}</style><div id=\"sk-container-id-3\" class=\"sk-top-container\"><div class=\"sk-text-repr-fallback\"><pre>LogisticRegression(random_state=0, solver=&#x27;liblinear&#x27;)</pre><b>In a Jupyter environment, please rerun this cell to show the HTML representation or trust the notebook. <br />On GitHub, the HTML representation is unable to render, please try loading this page with nbviewer.org.</b></div><div class=\"sk-container\" hidden><div class=\"sk-item\"><div class=\"sk-estimator sk-toggleable\"><input class=\"sk-toggleable__control sk-hidden--visually\" id=\"sk-estimator-id-3\" type=\"checkbox\" checked><label for=\"sk-estimator-id-3\" class=\"sk-toggleable__label sk-toggleable__label-arrow\">LogisticRegression</label><div class=\"sk-toggleable__content\"><pre>LogisticRegression(random_state=0, solver=&#x27;liblinear&#x27;)</pre></div></div></div></div></div>"
      ],
      "text/plain": [
       "LogisticRegression(random_state=0, solver='liblinear')"
      ]
     },
     "execution_count": 24,
     "metadata": {},
     "output_type": "execute_result"
    }
   ],
   "source": [
    "# nous allons faire une regression logistique \n",
    "regressionLogistic = LogisticRegression(random_state=0,solver='liblinear')\n",
    "regressionLogistic.fit(xtrain,ytrain)"
   ]
  },
  {
   "cell_type": "code",
   "execution_count": 25,
   "metadata": {},
   "outputs": [],
   "source": [
    "# sauvegarde du model afin qu'on puisse le réutiliser afin de detecter d'auttres billet\n",
    "with open('../../lab/Python_traitement/modelLR.pkl', 'wb') as f:\n",
    "    myModelLR = pickle.Pickler(f)\n",
    "    myModelLR.dump(regressionLogistic)"
   ]
  },
  {
   "cell_type": "code",
   "execution_count": 29,
   "metadata": {},
   "outputs": [
    {
     "data": {
      "text/plain": [
       "0.9705882352941176"
      ]
     },
     "execution_count": 29,
     "metadata": {},
     "output_type": "execute_result"
    }
   ],
   "source": [
    "regressionLogistic.score(xtest,ytest)"
   ]
  },
  {
   "cell_type": "markdown",
   "metadata": {},
   "source": [
    "La RL à été apprise a plus de. 98%"
   ]
  },
  {
   "cell_type": "markdown",
   "metadata": {},
   "source": [
    "## MATRICE DE CONFUSION"
   ]
  },
  {
   "cell_type": "code",
   "execution_count": 28,
   "metadata": {},
   "outputs": [
    {
     "data": {
      "text/plain": [
       "<sklearn.metrics._plot.confusion_matrix.ConfusionMatrixDisplay at 0x7f2f36139d60>"
      ]
     },
     "execution_count": 28,
     "metadata": {},
     "output_type": "execute_result"
    },
    {
     "data": {
      "image/png": "[encoded data removed]",
      "text/plain": [
       "<Figure size 640x480 with 2 Axes>"
      ]
     },
     "metadata": {},
     "output_type": "display_data"
    }
   ],
   "source": [
    "\n",
    "\n",
    "# prediction de Y classi\n",
    "ypred = regressionLogistic.predict(xtest)\n",
    "confusionOfMatrice = confusion_matrix(ytest,ypred)\n",
    "matricePlot = ConfusionMatrixDisplay(confusion_matrix=confusionOfMatrice)\n",
    "matricePlot.plot() "
   ]
  },
  {
   "cell_type": "code",
   "execution_count": 31,
   "metadata": {},
   "outputs": [
    {
     "name": "stdout",
     "output_type": "stream",
     "text": [
      "[1 0 0 1 1 1 1 1 1 1 0 1 1 0 1 1 0 1 1 1 0 0 1 0 0 1 1 1 0 1 0 1 1 0 1 0 0\n",
      " 0 1 1 0 1 0 1 1 1 1 1 1 0 1 0 1 0 1 0 1 1 1 0 0 0 1 0 0 1 1 0 0 1 0 1 0 0\n",
      " 1 0 0 0 1 0 1 0 0 1 0 1 1 0 0 0 0 1 1 0 1 0 1 1 1 1 0 0 1 0 1 1 1 1 1 1 0\n",
      " 0 1 1 1 1 1 0 0 0 0 1 1 1 1 1 1 0 1 1 1 0 1 1 1 0]\n"
     ]
    }
   ],
   "source": [
    "print(ypred)"
   ]
  },
  {
   "cell_type": "raw",
   "metadata": {},
   "source": [
    "Le tableau représente le résultat de la Regression linéaire. Celle-ci nous permet de savoir si il y a des faux positif/négatif\n",
    "\n",
    "Un faux positif/négatif peux être interpréter de cette manière nous avons mis en place une étude supervisé donc nous expliquons Y (is_genuine) par X (les autres colonnes du dataset) selon la granulaté de notre apprentissage, si un billet  correspond à 80% à un vrai/faux billet alors il le considéra comme tel \n",
    "\n",
    "0 = faux billet \n",
    "1 = vrai billet\n",
    "\n",
    "    on constate:\n",
    "        L'algorythme nous retourne que tres peux d'erreur \n",
    "        \n",
    "         - dans la première dimmension nous avons 55 bonne valeurs et 2 faux positif\n",
    "         - dans le seconde dimmension il considère 79 billet comme bonne valeur (vrai positif)"
   ]
  },
  {
   "cell_type": "code",
   "execution_count": null,
   "metadata": {},
   "outputs": [],
   "source": []
  }
 ],
 "metadata": {
  "kernelspec": {
   "display_name": "Python 3 (ipykernel)",
   "language": "python",
   "name": "python3"
  },
  "language_info": {
   "codemirror_mode": {
    "name": "ipython",
    "version": 3
   },
   "file_extension": ".py",
   "mimetype": "text/x-python",
   "name": "python",
   "nbconvert_exporter": "python",
   "pygments_lexer": "ipython3",
   "version": "3.8.16"
  }
 },
 "nbformat": 4,
 "nbformat_minor": 4
}
