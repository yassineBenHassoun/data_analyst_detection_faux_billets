{
 "cells": [
  {
   "cell_type": "markdown",
   "metadata": {},
   "source": [
    "SOMMAIRE \n",
    "\n",
    "- [Mission 0 - analyse uni-varié et bi-varié ](#m3)\n",
    "    - [Nature des billets](#q1)\n",
    "    - [Diagonal](#q2)\n",
    "    - [Hauteur gauche](#q3)\n",
    "    - [Hauteur droite](#q4)\n",
    "    - [Marge Haute](#q4)\n",
    "    - [Marge basse](#q4)\n",
    "    - [Taille](#q4)\n",
    "    - [Analyse bi-varié](#q4)\n"
   ]
  },
  {
   "cell_type": "code",
   "execution_count": 6,
   "metadata": {
    "ExecuteTime": {
     "end_time": "2021-03-24T08:01:38.361456Z",
     "start_time": "2021-03-24T08:01:38.333377Z"
    }
   },
   "outputs": [
    {
     "name": "stdout",
     "output_type": "stream",
     "text": [
      "Populating the interactive namespace from numpy and matplotlib\n"
     ]
    }
   ],
   "source": [
    "from scipy.stats import kstest\n",
    "from scipy import stats\n",
    "import pandas as pd\n",
    "import numpy as np\n",
    "import seaborn as sns\n",
    "%pylab inline\n",
    "sns.set_theme(style=\"whitegrid\")\n",
    "from Class import taux_remplissage"
   ]
  },
  {
   "cell_type": "markdown",
   "metadata": {},
   "source": [
    "# Afin d'introduire votre analyse, effectuez une brève description des données (analyses univariées et bivariées)."
   ]
  },
  {
   "cell_type": "code",
   "execution_count": 7,
   "metadata": {
    "ExecuteTime": {
     "end_time": "2021-03-24T08:01:39.422158Z",
     "start_time": "2021-03-24T08:01:39.406752Z"
    }
   },
   "outputs": [
    {
     "data": {
      "text/plain": [
       "(170, 7)"
      ]
     },
     "execution_count": 7,
     "metadata": {},
     "output_type": "execute_result"
    }
   ],
   "source": [
    "fakeTickets = pd.read_csv(\"../../lab/origin_values/faux_billets.csv\", parse_dates=True) \n",
    "fakeTickets.shape"
   ]
  },
  {
   "cell_type": "code",
   "execution_count": 8,
   "metadata": {
    "ExecuteTime": {
     "end_time": "2021-03-24T08:01:40.700081Z",
     "start_time": "2021-03-24T08:01:40.693033Z"
    }
   },
   "outputs": [
    {
     "data": {
      "text/plain": [
       "is_genuine         bool\n",
       "diagonal        float64\n",
       "height_left     float64\n",
       "height_right    float64\n",
       "margin_low      float64\n",
       "margin_up       float64\n",
       "length          float64\n",
       "dtype: object"
      ]
     },
     "execution_count": 8,
     "metadata": {},
     "output_type": "execute_result"
    }
   ],
   "source": [
    "fakeTickets.dtypes"
   ]
  },
  {
   "cell_type": "code",
   "execution_count": 9,
   "metadata": {
    "ExecuteTime": {
     "end_time": "2021-03-24T08:01:41.404073Z",
     "start_time": "2021-03-24T08:01:41.392721Z"
    }
   },
   "outputs": [
    {
     "name": "stdout",
     "output_type": "stream",
     "text": [
      "                                variable name    Valeurs null            types    Filling Rate  %\n",
      "                                   is_genuine             170             bool          100.00 %\n",
      "                                     diagonal             170          float64          100.00 %\n",
      "                                  height_left             170          float64          100.00 %\n",
      "                                 height_right             170          float64          100.00 %\n",
      "                                   margin_low             170          float64          100.00 %\n",
      "                                    margin_up             170          float64          100.00 %\n",
      "                                       length             170          float64          100.00 %\n"
     ]
    }
   ],
   "source": [
    "## fonction qui permet de check etat des variable et leurs contenances\n",
    "taux_remplissage(fakeTickets)"
   ]
  },
  {
   "cell_type": "code",
   "execution_count": null,
   "metadata": {
    "ExecuteTime": {
     "end_time": "2021-03-24T07:21:05.629926Z",
     "start_time": "2021-03-24T07:21:05.600759Z"
    }
   },
   "outputs": [],
   "source": []
  },
  {
   "cell_type": "code",
   "execution_count": 10,
   "metadata": {
    "ExecuteTime": {
     "end_time": "2021-03-24T08:01:43.117546Z",
     "start_time": "2021-03-24T08:01:43.097613Z"
    }
   },
   "outputs": [
    {
     "ename": "NameError",
     "evalue": "name 'fakeTicketsWithoutBool' is not defined",
     "output_type": "error",
     "traceback": [
      "\u001b[0;31m---------------------------------------------------------------------------\u001b[0m",
      "\u001b[0;31mNameError\u001b[0m                                 Traceback (most recent call last)",
      "\u001b[0;32m<ipython-input-10-a62ec4e77818>\u001b[0m in \u001b[0;36m<module>\u001b[0;34m\u001b[0m\n\u001b[0;32m----> 1\u001b[0;31m \u001b[0msns\u001b[0m\u001b[0;34m.\u001b[0m\u001b[0mboxplot\u001b[0m\u001b[0;34m(\u001b[0m\u001b[0mx\u001b[0m\u001b[0;34m=\u001b[0m\u001b[0mfakeTicketsWithoutBool\u001b[0m\u001b[0;34m[\u001b[0m\u001b[0;34m\"height_left\"\u001b[0m\u001b[0;34m]\u001b[0m\u001b[0;34m,\u001b[0m\u001b[0mshowmeans\u001b[0m\u001b[0;34m=\u001b[0m\u001b[0;32mTrue\u001b[0m \u001b[0;34m)\u001b[0m\u001b[0;34m\u001b[0m\u001b[0;34m\u001b[0m\u001b[0m\n\u001b[0m\u001b[1;32m      2\u001b[0m \u001b[0;31m# faibles dispersion des données\u001b[0m\u001b[0;34m\u001b[0m\u001b[0;34m\u001b[0m\u001b[0;34m\u001b[0m\u001b[0m\n",
      "\u001b[0;31mNameError\u001b[0m: name 'fakeTicketsWithoutBool' is not defined"
     ]
    }
   ],
   "source": [
    "sns.boxplot(x=fakeTicketsWithoutBool[\"height_left\"],showmeans=True )\n",
    "# faibles dispersion des données "
   ]
  },
  {
   "cell_type": "code",
   "execution_count": 11,
   "metadata": {
    "ExecuteTime": {
     "end_time": "2021-03-24T08:01:49.900784Z",
     "start_time": "2021-03-24T08:01:49.888149Z"
    }
   },
   "outputs": [],
   "source": [
    "numberGenuine = pd.DataFrame(fakeTickets[['is_genuine']].value_counts()).reset_index()"
   ]
  },
  {
   "cell_type": "markdown",
   "metadata": {},
   "source": [
    "## Nature des billets"
   ]
  },
  {
   "cell_type": "code",
   "execution_count": 12,
   "metadata": {
    "ExecuteTime": {
     "end_time": "2021-03-24T08:01:51.123274Z",
     "start_time": "2021-03-24T08:01:50.998114Z"
    }
   },
   "outputs": [
    {
     "data": {
      "image/png": "[encoded data removed]",
      "text/plain": [
       "<Figure size 432x288 with 1 Axes>"
      ]
     },
     "metadata": {},
     "output_type": "display_data"
    }
   ],
   "source": [
    "labels = ['vrais', 'faux']\n",
    "sizes = [numberGenuine.iloc[0,1],numberGenuine.iloc[1,1]]\n",
    "explode = (0, 0.1, 0) \n",
    "fig1, ax1 = plt.subplots()\n",
    "ax1.pie(sizes, labels=labels, autopct='%1.1f%%',shadow=False, startangle=90)\n",
    "plt.tight_layout()\n",
    "plt.title('Nombres de faux billets')\n",
    "plt.show()"
   ]
  },
  {
   "cell_type": "markdown",
   "metadata": {},
   "source": [
    "## Diagonal"
   ]
  },
  {
   "cell_type": "code",
   "execution_count": 13,
   "metadata": {
    "ExecuteTime": {
     "end_time": "2021-03-24T08:01:52.462488Z",
     "start_time": "2021-03-24T08:01:52.442534Z"
    }
   },
   "outputs": [
    {
     "ename": "NameError",
     "evalue": "name 'genuineTrue' is not defined",
     "output_type": "error",
     "traceback": [
      "\u001b[0;31m---------------------------------------------------------------------------\u001b[0m",
      "\u001b[0;31mNameError\u001b[0m                                 Traceback (most recent call last)",
      "\u001b[0;32m<ipython-input-13-33102eb45d69>\u001b[0m in \u001b[0;36m<module>\u001b[0;34m\u001b[0m\n\u001b[0;32m----> 1\u001b[0;31m \u001b[0mgenuineTrue\u001b[0m\u001b[0;34m[\u001b[0m\u001b[0;34m\"diagonal\"\u001b[0m\u001b[0;34m]\u001b[0m\u001b[0;34m.\u001b[0m\u001b[0mdescribe\u001b[0m\u001b[0;34m(\u001b[0m\u001b[0;34m)\u001b[0m\u001b[0;34m\u001b[0m\u001b[0;34m\u001b[0m\u001b[0m\n\u001b[0m",
      "\u001b[0;31mNameError\u001b[0m: name 'genuineTrue' is not defined"
     ]
    }
   ],
   "source": [
    "genuineTrue[\"diagonal\"].describe()"
   ]
  },
  {
   "cell_type": "code",
   "execution_count": 18,
   "metadata": {
    "ExecuteTime": {
     "end_time": "2021-03-24T08:02:26.207165Z",
     "start_time": "2021-03-24T08:02:25.988933Z"
    }
   },
   "outputs": [
    {
     "data": {
      "text/plain": [
       "<AxesSubplot:xlabel='diagonal'>"
      ]
     },
     "execution_count": 18,
     "metadata": {},
     "output_type": "execute_result"
    },
    {
     "data": {
      "image/png": "[encoded data removed]",
      "text/plain": [
       "<Figure size 432x288 with 1 Axes>"
      ]
     },
     "metadata": {},
     "output_type": "display_data"
    }
   ],
   "source": [
    "sns.boxplot(x=fakeTickets[\"diagonal\"],showmeans=True )\n",
    "# faible dispersion des données \n",
    "# sur l'analyse de la diagonal on constate que statistiquement que 3 billets sorte du lot de donnée\n",
    "# avec un écart de la mediane significatif ce sont des outliers"
   ]
  },
  {
   "cell_type": "code",
   "execution_count": 21,
   "metadata": {
    "ExecuteTime": {
     "end_time": "2021-03-24T08:15:55.325650Z",
     "start_time": "2021-03-24T08:15:55.123511Z"
    }
   },
   "outputs": [
    {
     "data": {
      "text/plain": [
       "<AxesSubplot:xlabel='diagonal'>"
      ]
     },
     "execution_count": 21,
     "metadata": {},
     "output_type": "execute_result"
    },
    {
     "data": {
      "image/png": "[encoded data removed]",
      "text/plain": [
       "<Figure size 432x288 with 1 Axes>"
      ]
     },
     "metadata": {},
     "output_type": "display_data"
    }
   ],
   "source": [
    "sns.boxplot(x=fakeTickets[\"diagonal\"],hue=fakeTickets[\"is_genuine\"],showmeans=True )"
   ]
  },
  {
   "cell_type": "code",
   "execution_count": 15,
   "metadata": {
    "ExecuteTime": {
     "end_time": "2021-03-24T08:01:54.121384Z",
     "start_time": "2021-03-24T08:01:54.093371Z"
    }
   },
   "outputs": [
    {
     "data": {
      "text/html": [
       "<div>\n",
       "<style scoped>\n",
       "    .dataframe tbody tr th:only-of-type {\n",
       "        vertical-align: middle;\n",
       "    }\n",
       "\n",
       "    .dataframe tbody tr th {\n",
       "        vertical-align: top;\n",
       "    }\n",
       "\n",
       "    .dataframe thead th {\n",
       "        text-align: right;\n",
       "    }\n",
       "</style>\n",
       "<table border=\"1\" class=\"dataframe\">\n",
       "  <thead>\n",
       "    <tr style=\"text-align: right;\">\n",
       "      <th></th>\n",
       "      <th>is_genuine</th>\n",
       "      <th>diagonal</th>\n",
       "      <th>height_left</th>\n",
       "      <th>height_right</th>\n",
       "      <th>margin_low</th>\n",
       "      <th>margin_up</th>\n",
       "      <th>length</th>\n",
       "    </tr>\n",
       "  </thead>\n",
       "  <tbody>\n",
       "    <tr>\n",
       "      <th>34</th>\n",
       "      <td>True</td>\n",
       "      <td>172.75</td>\n",
       "      <td>104.33</td>\n",
       "      <td>103.97</td>\n",
       "      <td>4.34</td>\n",
       "      <td>3.14</td>\n",
       "      <td>113.12</td>\n",
       "    </tr>\n",
       "    <tr>\n",
       "      <th>70</th>\n",
       "      <td>True</td>\n",
       "      <td>171.04</td>\n",
       "      <td>103.84</td>\n",
       "      <td>103.64</td>\n",
       "      <td>4.22</td>\n",
       "      <td>3.36</td>\n",
       "      <td>112.70</td>\n",
       "    </tr>\n",
       "    <tr>\n",
       "      <th>166</th>\n",
       "      <td>False</td>\n",
       "      <td>173.01</td>\n",
       "      <td>104.59</td>\n",
       "      <td>104.31</td>\n",
       "      <td>5.04</td>\n",
       "      <td>3.05</td>\n",
       "      <td>110.91</td>\n",
       "    </tr>\n",
       "  </tbody>\n",
       "</table>\n",
       "</div>"
      ],
      "text/plain": [
       "     is_genuine  diagonal  height_left  height_right  margin_low  margin_up  \\\n",
       "34         True    172.75       104.33        103.97        4.34       3.14   \n",
       "70         True    171.04       103.84        103.64        4.22       3.36   \n",
       "166       False    173.01       104.59        104.31        5.04       3.05   \n",
       "\n",
       "     length  \n",
       "34   113.12  \n",
       "70   112.70  \n",
       "166  110.91  "
      ]
     },
     "execution_count": 15,
     "metadata": {},
     "output_type": "execute_result"
    }
   ],
   "source": [
    "fakeTickets.loc[(fakeTickets[\"diagonal\"] > 172.65)| (fakeTickets[\"diagonal\"] < 171.11) ]"
   ]
  },
  {
   "cell_type": "code",
   "execution_count": 16,
   "metadata": {
    "ExecuteTime": {
     "end_time": "2021-03-24T08:01:54.917642Z",
     "start_time": "2021-03-24T08:01:54.909498Z"
    }
   },
   "outputs": [
    {
     "name": "stdout",
     "output_type": "stream",
     "text": [
      "l'analyse de la diagonal ne nous permet pas de determiner les vrais des faux billets\n"
     ]
    }
   ],
   "source": [
    "print(\"l'analyse de la diagonal ne nous permet pas de determiner les vrais des faux billets\")"
   ]
  },
  {
   "cell_type": "markdown",
   "metadata": {},
   "source": [
    "## Hauteur gauche"
   ]
  },
  {
   "cell_type": "code",
   "execution_count": null,
   "metadata": {
    "ExecuteTime": {
     "end_time": "2021-03-24T08:00:26.911271Z",
     "start_time": "2021-03-24T08:00:25.855Z"
    }
   },
   "outputs": [],
   "source": [
    "sns.boxplot(x=fakeTickets[\"height_left\"],showmeans=True )\n",
    "# faibles dispersion des données "
   ]
  },
  {
   "cell_type": "markdown",
   "metadata": {},
   "source": [
    "## Hauteur droite"
   ]
  },
  {
   "cell_type": "code",
   "execution_count": null,
   "metadata": {
    "ExecuteTime": {
     "end_time": "2021-03-24T08:00:26.914153Z",
     "start_time": "2021-03-24T08:00:25.889Z"
    }
   },
   "outputs": [],
   "source": [
    "sns.boxplot(x=fakeTickets[\"height_right\"],showmeans=True )\n",
    "\n",
    "# on identifie 1 outliers dans ce graph "
   ]
  },
  {
   "cell_type": "code",
   "execution_count": null,
   "metadata": {
    "ExecuteTime": {
     "end_time": "2021-03-24T08:00:26.915565Z",
     "start_time": "2021-03-24T08:00:25.890Z"
    }
   },
   "outputs": [],
   "source": [
    "fakeTickets.loc[(fakeTickets[\"height_right\"] > 104.90)]\n",
    "# faibles dispersion des données \n",
    "# Cette outliers fait partie des vrais billets. On peux s'appuyer sur un indice de reconnaissances \n",
    "# outliers est proche du Q3"
   ]
  },
  {
   "cell_type": "markdown",
   "metadata": {},
   "source": [
    "## Marge haute"
   ]
  },
  {
   "cell_type": "code",
   "execution_count": 33,
   "metadata": {
    "ExecuteTime": {
     "end_time": "2021-03-24T08:21:59.427582Z",
     "start_time": "2021-03-24T08:21:59.242584Z"
    }
   },
   "outputs": [
    {
     "data": {
      "text/plain": [
       "<AxesSubplot:xlabel='margin_up'>"
      ]
     },
     "execution_count": 33,
     "metadata": {},
     "output_type": "execute_result"
    },
    {
     "data": {
      "image/png": "[encoded data removed]",
      "text/plain": [
       "<Figure size 432x288 with 1 Axes>"
      ]
     },
     "metadata": {},
     "output_type": "display_data"
    }
   ],
   "source": [
    "sns.boxplot(x=fakeTickets[\"margin_up\"],showmeans=True )"
   ]
  },
  {
   "cell_type": "code",
   "execution_count": null,
   "metadata": {
    "ExecuteTime": {
     "end_time": "2021-03-24T08:00:26.918982Z",
     "start_time": "2021-03-24T08:00:25.926Z"
    }
   },
   "outputs": [],
   "source": [
    "fakeTickets.loc[(fakeTickets[\"margin_up\"] < 2.4)]\n",
    "#faibles dispersion des données \n",
    "# Cette outliers fait partie des vrais billets"
   ]
  },
  {
   "cell_type": "markdown",
   "metadata": {},
   "source": [
    "## Marge basse"
   ]
  },
  {
   "cell_type": "code",
   "execution_count": 32,
   "metadata": {
    "ExecuteTime": {
     "end_time": "2021-03-24T08:21:55.583170Z",
     "start_time": "2021-03-24T08:21:55.406396Z"
    }
   },
   "outputs": [
    {
     "data": {
      "text/plain": [
       "<AxesSubplot:xlabel='margin_low'>"
      ]
     },
     "execution_count": 32,
     "metadata": {},
     "output_type": "execute_result"
    },
    {
     "data": {
      "image/png": "[encoded data removed]",
      "text/plain": [
       "<Figure size 432x288 with 1 Axes>"
      ]
     },
     "metadata": {},
     "output_type": "display_data"
    }
   ],
   "source": [
    "sns.boxplot(x=fakeTickets[\"margin_low\"],showmeans=True ) "
   ]
  },
  {
   "cell_type": "markdown",
   "metadata": {},
   "source": [
    "## Taille"
   ]
  },
  {
   "cell_type": "code",
   "execution_count": 31,
   "metadata": {
    "ExecuteTime": {
     "end_time": "2021-03-24T08:21:53.496876Z",
     "start_time": "2021-03-24T08:21:53.304886Z"
    }
   },
   "outputs": [
    {
     "data": {
      "text/plain": [
       "<AxesSubplot:xlabel='length'>"
      ]
     },
     "execution_count": 31,
     "metadata": {},
     "output_type": "execute_result"
    },
    {
     "data": {
      "image/png": "[encoded data removed]",
      "text/plain": [
       "<Figure size 432x288 with 1 Axes>"
      ]
     },
     "metadata": {},
     "output_type": "display_data"
    }
   ],
   "source": [
    "sns.boxplot(x=fakeTickets[\"length\"],showmeans=True )\n",
    "# faibles dispersion des données "
   ]
  },
  {
   "cell_type": "markdown",
   "metadata": {
    "ExecuteTime": {
     "end_time": "2021-03-24T08:24:06.552981Z",
     "start_time": "2021-03-24T08:24:06.548602Z"
    }
   },
   "source": [
    "# Analyse bi-varié"
   ]
  },
  {
   "cell_type": "markdown",
   "metadata": {
    "ExecuteTime": {
     "end_time": "2021-03-24T08:25:06.775236Z",
     "start_time": "2021-03-24T08:25:06.770518Z"
    }
   },
   "source": [
    "## Diagonal"
   ]
  },
  {
   "cell_type": "code",
   "execution_count": 36,
   "metadata": {
    "ExecuteTime": {
     "end_time": "2021-03-24T08:25:39.620548Z",
     "start_time": "2021-03-24T08:25:39.359124Z"
    }
   },
   "outputs": [
    {
     "data": {
      "text/plain": [
       "<AxesSubplot:xlabel='is_genuine', ylabel='diagonal'>"
      ]
     },
     "execution_count": 36,
     "metadata": {},
     "output_type": "execute_result"
    },
    {
     "data": {
      "image/png": "[encoded data removed]",
      "text/plain": [
       "<Figure size 432x288 with 1 Axes>"
      ]
     },
     "metadata": {},
     "output_type": "display_data"
    }
   ],
   "source": [
    "sns.boxplot(x=\"is_genuine\",y=\"diagonal\",\n",
    "            hue=\"is_genuine\", palette=[\"r\", \"g\"],\n",
    "            data=fakeTickets)"
   ]
  },
  {
   "cell_type": "markdown",
   "metadata": {},
   "source": [
    "## Hauteur gauche"
   ]
  },
  {
   "cell_type": "code",
   "execution_count": 38,
   "metadata": {
    "ExecuteTime": {
     "end_time": "2021-03-24T08:27:06.334326Z",
     "start_time": "2021-03-24T08:27:05.948670Z"
    }
   },
   "outputs": [
    {
     "data": {
      "text/plain": [
       "<AxesSubplot:xlabel='is_genuine', ylabel='height_left'>"
      ]
     },
     "execution_count": 38,
     "metadata": {},
     "output_type": "execute_result"
    },
    {
     "data": {
      "image/png": "[encoded data removed]",
      "text/plain": [
       "<Figure size 432x288 with 1 Axes>"
      ]
     },
     "metadata": {},
     "output_type": "display_data"
    }
   ],
   "source": [
    "sns.boxplot(x=\"is_genuine\",y=\"height_left\",\n",
    "            hue=\"is_genuine\", palette=[\"r\", \"g\"],\n",
    "            data=fakeTickets)"
   ]
  },
  {
   "cell_type": "markdown",
   "metadata": {},
   "source": [
    "## Hauteur droite"
   ]
  },
  {
   "cell_type": "code",
   "execution_count": 39,
   "metadata": {
    "ExecuteTime": {
     "end_time": "2021-03-24T08:27:16.151753Z",
     "start_time": "2021-03-24T08:27:15.897248Z"
    }
   },
   "outputs": [
    {
     "data": {
      "text/plain": [
       "<AxesSubplot:xlabel='is_genuine', ylabel='height_right'>"
      ]
     },
     "execution_count": 39,
     "metadata": {},
     "output_type": "execute_result"
    },
    {
     "data": {
      "image/png": "[encoded data removed]",
      "text/plain": [
       "<Figure size 432x288 with 1 Axes>"
      ]
     },
     "metadata": {},
     "output_type": "display_data"
    }
   ],
   "source": [
    "sns.boxplot(x=\"is_genuine\",y=\"height_right\",\n",
    "            hue=\"is_genuine\", palette=[\"r\", \"g\"],\n",
    "            data=fakeTickets)"
   ]
  },
  {
   "cell_type": "markdown",
   "metadata": {},
   "source": [
    "## Marge basse"
   ]
  },
  {
   "cell_type": "code",
   "execution_count": null,
   "metadata": {},
   "outputs": [],
   "source": [
    "sns.boxplot(x=\"is_genuine\",y=\"margin_low\",\n",
    "            hue=\"is_genuine\", palette=[\"r\", \"g\"],\n",
    "            data=fakeTickets)"
   ]
  },
  {
   "cell_type": "markdown",
   "metadata": {},
   "source": [
    "## Marge haute"
   ]
  },
  {
   "cell_type": "code",
   "execution_count": null,
   "metadata": {},
   "outputs": [],
   "source": [
    "sns.boxplot(x=\"is_genuine\",y=\"margin_up\",\n",
    "            hue=\"is_genuine\", palette=[\"r\", \"g\"],\n",
    "            data=fakeTickets)"
   ]
  },
  {
   "cell_type": "markdown",
   "metadata": {},
   "source": [
    "## Taille"
   ]
  },
  {
   "cell_type": "code",
   "execution_count": 41,
   "metadata": {
    "ExecuteTime": {
     "end_time": "2021-03-24T08:28:58.005822Z",
     "start_time": "2021-03-24T08:28:57.765136Z"
    }
   },
   "outputs": [
    {
     "data": {
      "text/plain": [
       "<AxesSubplot:xlabel='is_genuine', ylabel='length'>"
      ]
     },
     "execution_count": 41,
     "metadata": {},
     "output_type": "execute_result"
    },
    {
     "data": {
      "image/png": "[encoded data removed]",
      "text/plain": [
       "<Figure size 432x288 with 1 Axes>"
      ]
     },
     "metadata": {},
     "output_type": "display_data"
    }
   ],
   "source": [
    "sns.boxplot(x=\"is_genuine\",y=\"length\",\n",
    "            hue=\"is_genuine\", palette=[\"r\", \"g\"],\n",
    "            data=fakeTickets)"
   ]
  },
  {
   "cell_type": "markdown",
   "metadata": {
    "ExecuteTime": {
     "end_time": "2021-03-24T07:21:12.749632Z",
     "start_time": "2021-03-24T07:21:12.742987Z"
    }
   },
   "source": [
    "# Analyse multi-varié"
   ]
  },
  {
   "cell_type": "code",
   "execution_count": 37,
   "metadata": {
    "ExecuteTime": {
     "end_time": "2021-03-24T08:25:51.135825Z",
     "start_time": "2021-03-24T08:25:50.811585Z"
    }
   },
   "outputs": [
    {
     "data": {
      "image/png": "[encoded data removed]",
      "text/plain": [
       "<Figure size 432x288 with 2 Axes>"
      ]
     },
     "metadata": {},
     "output_type": "display_data"
    }
   ],
   "source": [
    "## ajouter au bouleen avec des O et 1\n",
    "corr = fakeTickets.select_dtypes(exclude=\"bool\").corr()\n",
    "ax = sns.heatmap(\n",
    "    corr, \n",
    "    vmin=-1, vmax=1, center=0,\n",
    "    cmap=sns.diverging_palette(20, 220, n=200),\n",
    "    square=True\n",
    ")\n",
    "ax.set_xticklabels(\n",
    "    ax.get_xticklabels(),\n",
    "    rotation=45,\n",
    "    horizontalalignment='right'\n",
    ");"
   ]
  },
  {
   "cell_type": "raw",
   "metadata": {},
   "source": [
    "Lecture du tableau \n",
    " valeur proche 1 correlation positive\n",
    " valeur proche -1 correlation négative\n",
    " valeur proche 0 pas de correlation \n",
    "Selon pearson    "
   ]
  },
  {
   "cell_type": "code",
   "execution_count": null,
   "metadata": {
    "ExecuteTime": {
     "end_time": "2021-03-24T08:00:26.927253Z",
     "start_time": "2021-03-24T08:00:26.064Z"
    }
   },
   "outputs": [],
   "source": [
    "## correlation de pearson en tableau\n",
    "corr"
   ]
  }
 ],
 "metadata": {
  "kernelspec": {
   "display_name": "Python 3",
   "language": "python",
   "name": "python3"
  },
  "language_info": {
   "codemirror_mode": {
    "name": "ipython",
    "version": 3
   },
   "file_extension": ".py",
   "mimetype": "text/x-python",
   "name": "python",
   "nbconvert_exporter": "python",
   "pygments_lexer": "ipython3",
   "version": "3.8.6"
  },
  "latex_envs": {
   "LaTeX_envs_menu_present": true,
   "autoclose": false,
   "autocomplete": true,
   "bibliofile": "biblio.bib",
   "cite_by": "apalike",
   "current_citInitial": 1,
   "eqLabelWithNumbers": true,
   "eqNumInitial": 1,
   "hotkeys": {
    "equation": "Ctrl-E",
    "itemize": "Ctrl-I"
   },
   "labels_anchors": false,
   "latex_user_defs": false,
   "report_style_numbering": false,
   "user_envs_cfg": false
  },
  "toc": {
   "base_numbering": 1,
   "nav_menu": {},
   "number_sections": true,
   "sideBar": true,
   "skip_h1_title": false,
   "title_cell": "Table of Contents",
   "title_sidebar": "Contents",
   "toc_cell": false,
   "toc_position": {},
   "toc_section_display": true,
   "toc_window_display": false
  },
  "varInspector": {
   "cols": {
    "lenName": 16,
    "lenType": 16,
    "lenVar": 40
   },
   "kernels_config": {
    "python": {
     "delete_cmd_postfix": "",
     "delete_cmd_prefix": "del ",
     "library": "var_list.py",
     "varRefreshCmd": "print(var_dic_list())"
    },
    "r": {
     "delete_cmd_postfix": ") ",
     "delete_cmd_prefix": "rm(",
     "library": "var_list.r",
     "varRefreshCmd": "cat(var_dic_list()) "
    }
   },
   "types_to_exclude": [
    "module",
    "function",
    "builtin_function_or_method",
    "instance",
    "_Feature"
   ],
   "window_display": false
  }
 },
 "nbformat": 4,
 "nbformat_minor": 4
}
