{
 "cells": [
  {
   "cell_type": "code",
   "execution_count": 9,
   "id": "c9a112e1",
   "metadata": {},
   "outputs": [],
   "source": [
    "import pandas as pd\n",
    "from sklearn import preprocessing\n",
    "import pickle"
   ]
  },
  {
   "cell_type": "markdown",
   "id": "26bf15f5",
   "metadata": {},
   "source": [
    "Nous allons mettre en place une fonction permettant de detecter un vrai/faux billet de banque \n",
    "pour que cela soit possible il faux que le dataset contienne les colonnes suivantes : diagonal height_left\n",
    "height_right margin_low margin_up et length"
   ]
  },
  {
   "cell_type": "code",
   "execution_count": 54,
   "id": "e23fde98",
   "metadata": {},
   "outputs": [],
   "source": [
    "def detectBankNote(fileName):\n",
    "    \n",
    "    \n",
    "    banknoteDataframe = pd.read_csv(\"../../lab/origin_values/\" + fileName, parse_dates=True) \n",
    "    \n",
    "    ## on copy le df example car nous allons lui enlever \n",
    "    banknoteSave = banknoteDataframe.copy()\n",
    "\n",
    "    ## on part du principe que le dataset contient le \n",
    "    if 'id' in banknoteSave.columns:\n",
    "        banknoteSave = banknoteSave.loc[:, banknoteSave.columns != 'id']\n",
    "\n",
    "\n",
    "    # reduction du dataset et standardisation lutte contre les écarts d'échelle\n",
    "    scaleDf = preprocessing.StandardScaler().fit(banknoteSave)\n",
    "    banknoteScaled = scaleDf.transform(banknoteSave)\n",
    "\n",
    "\n",
    "    # recupération du model de regression afin de faire la déduction\n",
    "\n",
    "    with open('../../lab/Python_traitement/modelLR.pkl', 'rb') as file:\n",
    "        getRegressionLogistic = pickle.Unpickler(file).load()\n",
    "\n",
    "    # appilcation du dataset sur la regression logistic \n",
    "    probabilityBanknoteIsGenuine = getRegressionLogistic.predict_proba(banknoteScaled)[:, 1]\n",
    "\n",
    "    # regroup predict \n",
    "\n",
    "    dataframeProbabilityBanknote = pd.Series(probabilityBanknoteIsGenuine.round(2), name=\"percent_proba_isgenuine\")\n",
    "\n",
    "\n",
    "    dataframeProbabilityBanknote.head()\n",
    "\n",
    "    concatenationDataframe = pd.concat([banknoteDataframe, dataframeProbabilityBanknote], axis=1)\n",
    "\n",
    "\n",
    "    concatenationDataframe.head()\n",
    "\n",
    "    ## nous partons du prince du boolean ici on considère que toute les proba > à 50% sont des vrais billets \n",
    "    result = []\n",
    "    for i in concatenationDataframe['percent_proba_isgenuine'] >= .5:\n",
    "        if i is True :\n",
    "            result.append('real_banknote')\n",
    "        else :\n",
    "            result.append('fake_banknote')\n",
    "\n",
    "    concatenationDataframe['result_isgenuine'] = result   \n",
    "    \n",
    "    return concatenationDataframe\n",
    "    \n"
   ]
  },
  {
   "cell_type": "code",
   "execution_count": 55,
   "id": "123afe81",
   "metadata": {},
   "outputs": [],
   "source": [
    "def countRealAndFakeBanknote(df):\n",
    "    nbRealBanknote = len(df[df['result_isgenuine'] == 'real_banknote'])\n",
    "    nbFakeBanknote = len(df[df['result_isgenuine'] == 'fake_banknote'])\n",
    "\n",
    "    return 'Le dataset contient : ' + str(nbRealBanknote) + ' billet  et ' + str(nbFakeBanknote) + ' faux billet'"
   ]
  },
  {
   "cell_type": "code",
   "execution_count": 56,
   "id": "8e13b4c1",
   "metadata": {},
   "outputs": [
    {
     "name": "stderr",
     "output_type": "stream",
     "text": [
      "/usr/local/lib/python3.8/site-packages/sklearn/base.py:409: UserWarning: X does not have valid feature names, but LogisticRegression was fitted with feature names\n",
      "  warnings.warn(\n"
     ]
    },
    {
     "data": {
      "text/html": [
       "<div>\n",
       "<style scoped>\n",
       "    .dataframe tbody tr th:only-of-type {\n",
       "        vertical-align: middle;\n",
       "    }\n",
       "\n",
       "    .dataframe tbody tr th {\n",
       "        vertical-align: top;\n",
       "    }\n",
       "\n",
       "    .dataframe thead th {\n",
       "        text-align: right;\n",
       "    }\n",
       "</style>\n",
       "<table border=\"1\" class=\"dataframe\">\n",
       "  <thead>\n",
       "    <tr style=\"text-align: right;\">\n",
       "      <th></th>\n",
       "      <th>diagonal</th>\n",
       "      <th>height_left</th>\n",
       "      <th>height_right</th>\n",
       "      <th>margin_low</th>\n",
       "      <th>margin_up</th>\n",
       "      <th>length</th>\n",
       "      <th>id</th>\n",
       "      <th>percent_proba_isgenuine</th>\n",
       "      <th>result_isgenuine</th>\n",
       "    </tr>\n",
       "  </thead>\n",
       "  <tbody>\n",
       "    <tr>\n",
       "      <th>0</th>\n",
       "      <td>171.76</td>\n",
       "      <td>104.01</td>\n",
       "      <td>103.54</td>\n",
       "      <td>5.21</td>\n",
       "      <td>3.30</td>\n",
       "      <td>111.42</td>\n",
       "      <td>A_1</td>\n",
       "      <td>0.12</td>\n",
       "      <td>fake_banknote</td>\n",
       "    </tr>\n",
       "    <tr>\n",
       "      <th>1</th>\n",
       "      <td>171.87</td>\n",
       "      <td>104.17</td>\n",
       "      <td>104.13</td>\n",
       "      <td>6.00</td>\n",
       "      <td>3.31</td>\n",
       "      <td>112.09</td>\n",
       "      <td>A_2</td>\n",
       "      <td>0.01</td>\n",
       "      <td>fake_banknote</td>\n",
       "    </tr>\n",
       "    <tr>\n",
       "      <th>2</th>\n",
       "      <td>172.00</td>\n",
       "      <td>104.58</td>\n",
       "      <td>104.29</td>\n",
       "      <td>4.99</td>\n",
       "      <td>3.39</td>\n",
       "      <td>111.57</td>\n",
       "      <td>A_3</td>\n",
       "      <td>0.01</td>\n",
       "      <td>fake_banknote</td>\n",
       "    </tr>\n",
       "    <tr>\n",
       "      <th>3</th>\n",
       "      <td>172.49</td>\n",
       "      <td>104.55</td>\n",
       "      <td>104.34</td>\n",
       "      <td>4.44</td>\n",
       "      <td>3.03</td>\n",
       "      <td>113.20</td>\n",
       "      <td>A_4</td>\n",
       "      <td>0.94</td>\n",
       "      <td>real_banknote</td>\n",
       "    </tr>\n",
       "    <tr>\n",
       "      <th>4</th>\n",
       "      <td>171.65</td>\n",
       "      <td>103.63</td>\n",
       "      <td>103.56</td>\n",
       "      <td>3.77</td>\n",
       "      <td>3.16</td>\n",
       "      <td>113.33</td>\n",
       "      <td>A_5</td>\n",
       "      <td>1.00</td>\n",
       "      <td>real_banknote</td>\n",
       "    </tr>\n",
       "  </tbody>\n",
       "</table>\n",
       "</div>"
      ],
      "text/plain": [
       "   diagonal  height_left  height_right  margin_low  margin_up  length   id  \\\n",
       "0    171.76       104.01        103.54        5.21       3.30  111.42  A_1   \n",
       "1    171.87       104.17        104.13        6.00       3.31  112.09  A_2   \n",
       "2    172.00       104.58        104.29        4.99       3.39  111.57  A_3   \n",
       "3    172.49       104.55        104.34        4.44       3.03  113.20  A_4   \n",
       "4    171.65       103.63        103.56        3.77       3.16  113.33  A_5   \n",
       "\n",
       "   percent_proba_isgenuine result_isgenuine  \n",
       "0                     0.12    fake_banknote  \n",
       "1                     0.01    fake_banknote  \n",
       "2                     0.01    fake_banknote  \n",
       "3                     0.94    real_banknote  \n",
       "4                     1.00    real_banknote  "
      ]
     },
     "execution_count": 56,
     "metadata": {},
     "output_type": "execute_result"
    }
   ],
   "source": [
    "## il faut passer le nom du fichier \n",
    "detectBankNote(\"example.csv\")\n"
   ]
  },
  {
   "cell_type": "code",
   "execution_count": 57,
   "id": "f6358fe9",
   "metadata": {},
   "outputs": [
    {
     "name": "stderr",
     "output_type": "stream",
     "text": [
      "/usr/local/lib/python3.8/site-packages/sklearn/base.py:409: UserWarning: X does not have valid feature names, but LogisticRegression was fitted with feature names\n",
      "  warnings.warn(\n"
     ]
    },
    {
     "data": {
      "text/plain": [
       "'Le dataset contient : 2 billet  et 3 faux billet'"
      ]
     },
     "execution_count": 57,
     "metadata": {},
     "output_type": "execute_result"
    }
   ],
   "source": [
    "countRealAndFakeBanknote(detectBankNote(\"example.csv\"))\n",
    "    "
   ]
  }
 ],
 "metadata": {
  "kernelspec": {
   "display_name": "Python 3 (ipykernel)",
   "language": "python",
   "name": "python3"
  },
  "language_info": {
   "codemirror_mode": {
    "name": "ipython",
    "version": 3
   },
   "file_extension": ".py",
   "mimetype": "text/x-python",
   "name": "python",
   "nbconvert_exporter": "python",
   "pygments_lexer": "ipython3",
   "version": "3.8.16"
  }
 },
 "nbformat": 4,
 "nbformat_minor": 5
}
